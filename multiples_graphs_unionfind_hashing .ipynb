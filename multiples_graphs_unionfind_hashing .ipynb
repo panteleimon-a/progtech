{
  "cells": [
    {
      "cell_type": "markdown",
      "metadata": {},
      "source": [
        "***Problem description*** \n",
        "https://ntuagr-my.sharepoint.com/:i:/g/personal/el23728_ntua_gr/Ec84ztlasWlFu70gKncMo0QBdEtHUjVR9XUoFto4vsUGSA?e=UomZfb"
      ]
    },
    {
      "cell_type": "markdown",
      "metadata": {
        "id": "BdmWOVKTrti7"
      },
      "source": [
        "# Problem 10: AVL Tree Deletion\n",
        "\n",
        "**Question:** In the AVL tree shown below, key 8 is deleted. Which statement regarding the node with key 6 is correct (considering its label in both the initial and final AVL tree states)?\n",
        "\n",
        "**Initial AVL Tree Structure (Problem 10 - based on \"6->4 4->1 4->5 6->8\"):**"
      ]
    },
    {
      "cell_type": "markdown",
      "metadata": {
        "id": "AA05MjTTrTrP"
      },
      "source": [
        "**Short Solution:**\n",
        "\n",
        "1.  **Initial Balance Factors:**\n",
        "    * `BF(1)=0`, `BF(5)=0`, `BF(8)=0`. (Heights 0)\n",
        "    * `BF(4) = height(1) - height(5) = 0 - 0 = 0` (Height of 4 is 1)\n",
        "    * `BF(6) = height(4) - height(8) = 1 - 0 = 1` (Height of 6 is 2). Node 6 is initially Left-heavy/Left tall.\n",
        "    The tree is a valid AVL tree.\n",
        "\n",
        "2.  **Delete Key 8:** Node 8 is a leaf node. Simply remove it.\n",
        "    The tree after deleting 8 and before any rotations:\n",
        "\n",
        "    ```\n",
        "            6\n",
        "           /\n",
        "          4\n",
        "         / \\\n",
        "        1   5\n",
        "    ```\n",
        "\n",
        "3.  **Recalculate Balance Factors (after deletion, before rebalancing):**\n",
        "    * `BF(1)=0`, `BF(5)=0`. (Heights 0)\n",
        "    * `BF(4) = height(1) - height(5) = 0 - 0 = 0` (Height of 4 is 1)\n",
        "    * `BF(6) = height(4) - height(NULL_right) = 1 - (-1) = 2`. Node 6 is Left-heavy and **unbalanced**.\n",
        "\n",
        "4.  **Rebalance (Perform Right Rotation around 6):**\n",
        "    Since Node 6 has `BF=2` and its left child (Node 4) has `BF=0` (Left-Left/Left-Balanced case), a single Right Rotation is performed around Node 6. Node 4 becomes the new root of this subtree, Node 6 becomes its right child.\n",
        "    The tree becomes:\n",
        "\n",
        "    ```\n",
        "            4\n",
        "           / \\\n",
        "          1   6\n",
        "             /\n",
        "            5\n",
        "    ```\n",
        "\n",
        "5.  **Final Balance Factor for Node 6 (after rebalancing):**\n",
        "    In the final tree, Node 6 is the right child of Node 4. It has Node 5 as its left child.\n",
        "    * `BF(6) = height(5) - height(NULL_right) = 0 - (-1) = 1`. Node 6 is Left-heavy/Left tall.\n",
        "\n",
        "6.  **Conclusion:** Node 6 was initially Left-heavy (`BF=1`). After deletion and rebalancing, it remains Left-heavy (`BF=1`). Therefore, its label does not change.\n",
        "\n",
        "**Final Answer:** D. Θα παραμείνει με την ίδια ετικέτα. (It will remain with the same label.)\n"
      ]
    },
    {
      "cell_type": "markdown",
      "metadata": {
        "id": "1DhE69b5tp5q"
      },
      "source": [
        "# Problem 11: AVL Tree Deletion\n",
        "\n",
        "**Question:** In the AVL tree shown below, key 6 is deleted. Which statement regarding the node with key 4 is correct (considering its label in both the initial and final AVL tree states)?"
      ]
    },
    {
      "cell_type": "markdown",
      "metadata": {
        "id": "VAQDKwmPt9Zh"
      },
      "source": [
        "\n",
        "**Initial AVL Tree Structure (Problem 11 - WITH node 9):**\n",
        "* Root: 6\n",
        "    * Left Child of 6: 4\n",
        "        * Left Child of 4: 1\n",
        "        * Right Child of 4: 5\n",
        "    * Right Child of 6: 8\n",
        "        * Right Child of 8: 9\n",
        "\n",
        "**Options:**\n",
        "A. Θα αλλάξει ετικέτα, θα γίνει αριστερά ψηλός. (It will change label, it will become left tall.)\n",
        "B. Θα αλλάξει ετικέτα, θα γίνει δεξιά ψηλός. (It will change label, it will become right tall.)\n",
        "C. Θα αλλάξει ετικέτα, θα γίνει ίσος ψηλός. (It will change label, it will become equally tall.)\n",
        "D. Θα παραμείνει με την ίδια ετικέτα. (It will remain with the same label.)\n",
        "\n",
        "**Short Solution:**\n",
        "1.  **Initial Balance Factors:**\n",
        "    * Nodes 1, 5, and 9 are leaf nodes. Their heights are 0. Their balance factors are 0.\n",
        "    * **Node 4**: It has left child 1 (H=0) and right child 5 (H=0).\n",
        "        * `Height(4) = max(H(1), H(5)) + 1 = max(0, 0) + 1 = 1`.\n",
        "        * `Balance Factor (BF(4)) = H(1) - H(5) = 0 - 0 = 0`. (Node 4 is initially Equally Tall / Balanced).\n",
        "    * Node 8: Left child null (H=-1), Right child 9 (H=0). `H(8)=1`. `BF(8)=-1`. (Right-heavy).\n",
        "    * Node 6 (the root): Left child 4 (H=1), Right child 8 (H=1). `H(6)=2`. `BF(6)=H(4)-H(8)=1-1=0`. (Equally Tall / Balanced).\n",
        "    * At this stage, the tree is a valid AVL tree.\n",
        "\n",
        "2.  **Delete Key 6:**\n",
        "    * Key 6 is the root and has two children (4 and 8). To delete a node with two children in a BST/AVL tree, it is typically replaced by its inorder successor (the smallest key in its right subtree).\n",
        "    * The inorder successor of 6 is 8 (the smallest key in the subtree rooted at 8).\n",
        "    * Node 8 moves to the root position, taking over from 6. The original right child of 8 (node 9) is re-parented to the new root (8) as its right child. The left child of the new root (8) becomes the former left child of 6 (node 4).\n",
        "    **Tree structure after deleting 6 (replaced by 8):**\n",
        "    * Root: 8\n",
        "        * Left Child of 8: 4\n",
        "            * Left Child of 4: 1\n",
        "            * Right Child of 4: 5\n",
        "        * Right Child of 8: 9\n",
        "\n",
        "3.  **Recalculate Balance Factors (after deletion):**\n",
        "    * Nodes 1, 5, and 9 are leaves with height 0 and balance factor 0.\n",
        "    * **Node 4**: Its structure remains exactly the same as before the deletion (left child 1, right child 5).\n",
        "        * `Height(4) = 1`.\n",
        "        * `Balance Factor (BF(4)) = H(1) - H(5) = 0 - 0 = 0`. (Node 4 remains Equally Tall / Balanced).\n",
        "    * Node 8 (the new root): Left child 4 (H=1), Right child 9 (H=0). `BF(8) = H(4) - H(9) = 1 - 0 = 1`. (Node 8 is now Left-heavy).\n",
        "\n",
        "4.  **Check for Rebalancing:**\n",
        "    * Node 4's balance factor is 0, which is perfectly balanced. No rotation is needed involving node 4.\n",
        "    * Node 8's balance factor is 1, which is also valid for an AVL tree. No rotation is needed at node 8. No further rebalancing propagates upwards.\n",
        "\n",
        "5.  **Conclusion regarding node 4:**\n",
        "    * Node 4 was initially \"Equally Tall\" (with a balance factor of 0).\n",
        "    * After the deletion of key 6 and the subsequent tree rearrangement, node 4's structure and balance factor remained unchanged. It is still \"Equally Tall\" (with a balance factor of 0).\n",
        "    * Therefore, the label (balance state) of node 4 **does not change**.\n",
        "\n",
        "**Final Answer:** D. Θα παραμείνει με την ίδια ετικέτα. (It will remain with the same label.)"
      ]
    },
    {
      "cell_type": "markdown",
      "metadata": {
        "id": "2GPaouETrxEu"
      },
      "source": [
        "# Problem 12: Hashing with Chaining\n",
        "\n",
        "**Question:** Let's say we have a hash table of 15 positions, for which the division method ($\\text{mod } 15$) is chosen as the hashing method with chaining. Let's say we want to store keys that can take values in the range $[0, 50]$. Which of the following sets of numbers (keys) will lead to the formation of a chain of length at least 3 at some position in the table?\n"
      ]
    },
    {
      "cell_type": "markdown",
      "metadata": {
        "id": "uH4cwaNbuBcI"
      },
      "source": [
        "\n",
        "**Hash function:** $h(k) = k \\pmod{15}$\n",
        "\n",
        "**Options:**\n",
        "\n",
        "A. 3, 5, 4, 6, ..., 30\n",
        "B. 5, 6, 7, ..., 24\n",
        "C. 1, 4, 7, 10, ..., 43\n",
        "D. None of the above.\n",
        "\n",
        "**Short Solution:**\n",
        "\n",
        "We need to find a set where at least three numbers hash to the same slot ($k \\pmod{15}$ is the same).\n",
        "\n",
        "* **A. 3, 5, 4, 6, ..., 30:** No clear pattern for 3+ collisions without more values.\n",
        "* **B. 5, 6, 7, ..., 24:** Includes $5 \\pmod{15} = 5$ and $20 \\pmod{15} = 5$. Only 2 collisions identified. A third (like 35) is not guaranteed in this partial sequence.\n",
        "* **C. 1, 4, 7, 10, ..., 43:** This is an arithmetic sequence where each term is $3k + 1$.\n",
        "    * $1 \\pmod{15} = 1$\n",
        "    * $16 \\pmod{15} = 1$\n",
        "    * $31 \\pmod{15} = 1$\n",
        "    This clearly forms a chain of length 3 (for slot 1). Other slots also form chains of 3 (e.g., {$4, 19, 34$} for slot 4).\n",
        "\n",
        "**Final Answer:** C. 1, 4, 7, 10, ..., 43"
      ]
    },
    {
      "cell_type": "markdown",
      "metadata": {
        "id": "4WdWCtIrtyQf"
      },
      "source": [
        "# Problem 13: Union by Size (Disjoint Set Union)\n",
        "\n",
        "**Question:** Given the following trees, which can be formed by applying the union by size procedure? (Assume that the algorithm starts with the singletons: {1}, {2}, {3}, {4}, {5}, {6}, {7}, {8}, {9})\n",
        "\n"
      ]
    },
    {
      "cell_type": "markdown",
      "metadata": {
        "id": "8KaqybMsuGkB"
      },
      "source": [
        "**Explanation of Union by Size:** When performing a union operation between two components (sets) represented by trees, the 'union by size' heuristic dictates that the root of the smaller component (the one with fewer nodes) becomes a child of the root of the larger component. If both components have the same size, the choice of which root becomes the parent is arbitrary. This strategy helps to keep the trees relatively flat, which is important for the efficiency of find operations. A key principle is that a parent node must always represent a component size that is greater than or equal to the component size of its child *at the time of union*.\n",
        "\n",
        "**Tree Structures from the Image (textual representation):**\n",
        "\n",
        "**1.**\n",
        "* Root: 2\n",
        "    * Left Child of 2: 5\n",
        "        * Left Child of 5: 6\n",
        "    * Right Child of 2: 4\n",
        "* **Analysis for Tree 1:** For this tree to be formed by union by size, consider node 2 as the root. If node 2 was initially a singleton (size 1), and then became the parent of node 5's component (which would have size 2 from {5,6} if 5 and 6 were united first), this violates the union by size rule because a smaller component's root (size 1) cannot become the parent of a larger component's root (size 2). Therefore, this tree structure cannot be formed by the union by size procedure as depicted.\n",
        "\n",
        "**2.**\n",
        "* Root: 4\n",
        "    * Left Child of 4: 5\n",
        "        * Left Child of 5: 7\n",
        "    * Right Child of 4: 6\n",
        "        * Left Child of 6: 9\n",
        "* **Analysis for Tree 2:** Similar to Tree 1, for node 4 (initial size 1) to become the parent of node 5's component (which would be size 2 if {5,7} were united first), this violates the union by size rule. The same logic applies to node 6 being the parent of node 9's component. Thus, this tree cannot be formed by union by size.\n",
        "\n",
        "**3.**\n",
        "* Root: 2\n",
        "    * Left Child of 2: 4\n",
        "        * Left Child of 4: 6\n",
        "        * Right Child of 4: 8\n",
        "    * Right Child of 2: 5\n",
        "        * Left Child of 5: 9\n",
        "* **Analysis for Tree 3:** Similar to Tree 1, if node 2 (initial size 1) were to become the parent of node 4's component (which would be size 3 if {4,6,8} were united first) or node 5's component (size 2 if {5,9} were united first), this violates the union by size rule. This tree cannot be formed by union by size.\n",
        "\n",
        "**4.**\n",
        "* Root: 5\n",
        "    * Left Child of 5: 7\n",
        "    * Right Child of 5: 6\n",
        "* **Analysis for Tree 4:** This tree structure can be formed. Consider the following sequence of union operations:\n",
        "    * First, perform `union(5, 7)`. Both 5 and 7 are singletons, meaning their components each have size 1. Node 5 can arbitrarily be chosen as the parent of node 7 (since sizes are equal). The component rooted at 5 now has size 2 ({5,7}).\n",
        "    * Next, perform `union(5, 6)`. The component rooted at 5 has size 2 ({5,7}). Node 6 is a singleton (size 1). According to the union by size rule, the root of the smaller component (node 6) becomes a child of the root of the larger component (node 5). Node 5 becomes the parent of node 6. The component rooted at 5 now has size 3 ({5,6,7}).\n",
        "    This sequence of unions adheres to the union by size rule at each step. Therefore, this tree can be formed.\n",
        "\n",
        "**Overall Conclusion for Problem 13:** Based on a strict interpretation of union by size, trees 1, 2, and 3 cannot be formed as depicted because they show smaller-sized components being parents of larger-sized components. Tree 4, however, can be formed through a valid sequence of union by size operations.\n",
        "\n",
        "**Final Answer:** C. Only 4."
      ]
    }
  ],
  "metadata": {
    "colab": {
      "provenance": []
    },
    "kernelspec": {
      "display_name": "Python 3",
      "name": "python3"
    },
    "language_info": {
      "name": "python"
    }
  },
  "nbformat": 4,
  "nbformat_minor": 0
}
